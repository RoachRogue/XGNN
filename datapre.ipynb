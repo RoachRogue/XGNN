{
 "cells": [
  {
   "cell_type": "code",
   "execution_count": 17,
   "metadata": {},
   "outputs": [],
   "source": [
    "import os\n",
    "from torch_geometric.data import download_url, extract_tar"
   ]
  },
  {
   "cell_type": "code",
   "execution_count": 6,
   "metadata": {},
   "outputs": [
    {
     "name": "stderr",
     "output_type": "stream",
     "text": [
      "Downloading https://figshare.com/ndownloader/files/3195389\n"
     ]
    }
   ],
   "source": [
    "raw_path = './raw/'\n",
    "raw_url = 'https://figshare.com/ndownloader/files/3195389'\n",
    "file_name = 'dsgdb9nsd.xyz.tar.bz2'\n",
    "file_path = download_url(raw_url, raw_path, filename=file_name)"
   ]
  },
  {
   "cell_type": "code",
   "execution_count": 18,
   "metadata": {},
   "outputs": [
    {
     "name": "stderr",
     "output_type": "stream",
     "text": [
      "Extracting ./raw/dsgdb9nsd.xyz.tar.bz2\n"
     ]
    }
   ],
   "source": [
    "xyz_dir = './raw/dsgdb9nsd_xyz/'\n",
    "if os.path.isdir(xyz_dir):\n",
    "    extract_tar(path=(raw_path+file_name),folder=xyz_dir,mode='r:bz2')\n",
    "else:\n",
    "    os.mkdir(xyz_dir)\n",
    "    extract_bz2(path=(raw_path+file_name),folder=xyz_dir,mode='r:bz2')"
   ]
  },
  {
   "cell_type": "code",
   "execution_count": null,
   "metadata": {},
   "outputs": [],
   "source": [
    "xyz_content = ''\n",
    "\n",
    "for i in range(133885):\n",
    "    with open(f'./raw/dsgdb9nsd_xyz/dsgdb9nsd_{i+1:06d}.xyz','r')as f:\n",
    "        lines = f.readlines()\n",
    "        assert len(lines[-4].split())==5, 'incorrect slice'\n",
    "        assert len(lines[-3].split())!=5, 'incorrect slice'\n",
    "        atom_number = lines[0]\n",
    "        properties = '\\t'.join(lines[1].split()[5:])+'\\n'\n",
    "        coords = ''.join(['\\t'.join(line.split()[:-1])+'\\n' if '*^' not in line else '\\t'.join(line.replace('*^','E').split()[:-1])+'\\n' for line in lines[2:-3]])\n",
    "        mol_xyz = atom_number+properties+coords\n",
    "        xyz_content += mol_xyz\n",
    "\n",
    "with open('./raw/qm9_origin.xyz','w') as g:\n",
    "    g.write(xyz_content)"
   ]
  }
 ],
 "metadata": {
  "kernelspec": {
   "display_name": "geo210",
   "language": "python",
   "name": "python3"
  },
  "language_info": {
   "codemirror_mode": {
    "name": "ipython",
    "version": 3
   },
   "file_extension": ".py",
   "mimetype": "text/x-python",
   "name": "python",
   "nbconvert_exporter": "python",
   "pygments_lexer": "ipython3",
   "version": "3.10.11"
  },
  "orig_nbformat": 4
 },
 "nbformat": 4,
 "nbformat_minor": 2
}
