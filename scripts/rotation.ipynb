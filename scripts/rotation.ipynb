{
 "cells": [
  {
   "cell_type": "code",
   "execution_count": 1,
   "metadata": {},
   "outputs": [],
   "source": [
    "import numpy as np\n",
    "from scipy.spatial.transform import Rotation as R\n",
    "import torch"
   ]
  },
  {
   "cell_type": "code",
   "execution_count": 2,
   "metadata": {},
   "outputs": [
    {
     "data": {
      "text/plain": [
       "array([[ 0.119619  ,  0.94024697,  0.3187898 ],\n",
       "       [ 0.89573414,  0.03627909, -0.44310742],\n",
       "       [-0.42819581,  0.33855497, -0.83787164]])"
      ]
     },
     "execution_count": 2,
     "metadata": {},
     "output_type": "execute_result"
    }
   ],
   "source": [
    "rot = R.random()\n",
    "rot.as_matrix()"
   ]
  },
  {
   "cell_type": "code",
   "execution_count": 6,
   "metadata": {},
   "outputs": [],
   "source": [
    "from utils import read_xyz\n",
    "mol = read_xyz('./raw/small_exam.xyz')[2]"
   ]
  },
  {
   "cell_type": "code",
   "execution_count": 7,
   "metadata": {},
   "outputs": [
    {
     "data": {
      "text/plain": [
       "tensor([[ 2.2423, -0.3794,  0.2614],\n",
       "        [ 0.8414,  1.9353, -0.4228],\n",
       "        [ 2.8730,  0.8456,  0.2709],\n",
       "        [ 2.1692,  2.0000, -0.0657],\n",
       "        [-3.4840,  0.4933, -0.0922],\n",
       "        [ 0.8961, -0.4734, -0.0956],\n",
       "        [ 0.1940,  0.6969, -0.4377],\n",
       "        [-0.9628, -1.8398, -0.4148],\n",
       "        [-1.6535,  0.8836,  1.3403],\n",
       "        [ 0.8830, -2.8851,  0.2196],\n",
       "        [ 0.2154, -1.7763, -0.1029],\n",
       "        [-2.0246,  0.6876,  0.2148],\n",
       "        [-1.1188,  0.6263, -0.7918],\n",
       "        [ 0.3735, -3.7432,  0.2567],\n",
       "        [ 2.7581, -1.3009,  0.5200],\n",
       "        [ 0.3127,  2.7928, -0.7291],\n",
       "        [ 3.9282,  0.9208,  0.5587],\n",
       "        [ 2.6803,  2.9253, -0.1007],\n",
       "        [-3.7635, -0.5622, -0.0195],\n",
       "        [-4.0684,  1.1192,  0.5920],\n",
       "        [-3.6852,  0.8688, -1.0864]], dtype=torch.float64)"
      ]
     },
     "execution_count": 7,
     "metadata": {},
     "output_type": "execute_result"
    }
   ],
   "source": [
    "mol.R=mol.R.double()\n",
    "mol.R"
   ]
  },
  {
   "cell_type": "code",
   "execution_count": 8,
   "metadata": {},
   "outputs": [
    {
     "name": "stdout",
     "output_type": "stream",
     "text": [
      "torch.Size([21, 3])\n",
      "torch.Size([21, 3])\n",
      "torch.Size([21, 3])\n",
      "torch.Size([21, 3])\n",
      "torch.Size([21, 3])\n",
      "torch.Size([21, 3])\n",
      "torch.Size([21, 3])\n",
      "torch.Size([21, 3])\n",
      "torch.Size([21, 3])\n",
      "torch.Size([21, 3])\n"
     ]
    }
   ],
   "source": [
    "atom_dict = {0:'',1:'H',6:'C',7:'N',8:'O',9:'F'}\n",
    "with open('./raw/rotation.xyz','a')as f:\n",
    "    for i in range(10):\n",
    "        rot = R.random()\n",
    "        new_pos = mol.R @ torch.from_numpy(rot.as_matrix())\n",
    "        print(new_pos.size())\n",
    "        f.write(f'{new_pos.size()[0]}\\n')\n",
    "        f.write(f'{mol.Label.item():.5f}\\n')\n",
    "        for i in range(new_pos.size()[0]):\n",
    "            f.write(f'{atom_dict[mol.Z[i].item()]}\\t{new_pos[i][0].item():.8f}\\t{new_pos[i][1].item():.8f}\\t{new_pos[i][2].item():.8f}\\n')"
   ]
  }
 ],
 "metadata": {
  "kernelspec": {
   "display_name": "geo210",
   "language": "python",
   "name": "python3"
  },
  "language_info": {
   "codemirror_mode": {
    "name": "ipython",
    "version": 3
   },
   "file_extension": ".py",
   "mimetype": "text/x-python",
   "name": "python",
   "nbconvert_exporter": "python",
   "pygments_lexer": "ipython3",
   "version": "3.10.10"
  },
  "orig_nbformat": 4
 },
 "nbformat": 4,
 "nbformat_minor": 2
}
